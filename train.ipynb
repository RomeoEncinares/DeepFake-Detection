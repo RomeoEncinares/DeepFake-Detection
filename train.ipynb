{
 "cells": [
  {
   "cell_type": "code",
   "execution_count": null,
   "metadata": {},
   "outputs": [],
   "source": [
    "import pandas as pd\n",
    "import keras.utils as image\n",
    "from tensorflow import keras\n",
    "from keras.applications import ResNet50\n",
    "from keras.applications.resnet import preprocess_input\n",
    "import cv2\n",
    "import matplotlib.pyplot as plt"
   ]
  },
  {
   "cell_type": "code",
   "execution_count": null,
   "metadata": {},
   "outputs": [],
   "source": [
    "df = pd.read_csv('dataset_processed-Copy/df.csv')"
   ]
  },
  {
   "cell_type": "code",
   "execution_count": null,
   "metadata": {},
   "outputs": [],
   "source": [
    "df.head()"
   ]
  },
  {
   "cell_type": "code",
   "execution_count": null,
   "metadata": {},
   "outputs": [],
   "source": [
    "def compute_optical_flow(df):\n",
    "    flow_data = []\n",
    "    for i, row in df.iterrows():\n",
    "        # Check if the next frame is from the same video\n",
    "        next_row = df.iloc[i + 1] if i + 1 < len(df) else None\n",
    "        if next_row is not None and row['video_name'] != next_row['video_name']:\n",
    "            continue\n",
    "\n",
    "        # Read the current frame and the next frame\n",
    "        frame1 = cv2.imread(row['file_path'])\n",
    "        if next_row is not None:\n",
    "            frame2 = cv2.imread(next_row['file_path'])\n",
    "        else:\n",
    "            # If the next frame is from a different video, skip computing optical flow\n",
    "            continue\n",
    "        \n",
    "        frame1 = cv2.resize(frame1, (224, 224))\n",
    "        frame2 = cv2.resize(frame2, (224, 224))\n",
    "\n",
    "        # Convert the frames to grayscale\n",
    "        gray1 = cv2.cvtColor(frame1, cv2.COLOR_BGR2GRAY)\n",
    "        gray2 = cv2.cvtColor(frame2, cv2.COLOR_BGR2GRAY)\n",
    "\n",
    "        # Compute the optical flow between the frames\n",
    "        flow = cv2.calcOpticalFlowFarneback(gray1, gray2, None, 0.5, 3, 15, 3, 5, 1.2, 0)\n",
    "\n",
    "        # Convert flow vectors to polar coordinates\n",
    "        magnitude, angle = cv2.cartToPolar(flow[..., 0], flow[..., 1])\n",
    "\n",
    "        # Threshold the magnitude to create a binary mask of moving regions\n",
    "        magnitude_threshold = 4\n",
    "        magnitude = cv2.normalize(magnitude, None, 0, 255, cv2.NORM_MINMAX, dtype=cv2.CV_8U)\n",
    "        ret, mask = cv2.threshold(magnitude, magnitude_threshold, 1, cv2.THRESH_BINARY)\n",
    "\n",
    "        # Apply the mask to the second frame to highlight the moving regions\n",
    "        frame2_masked = cv2.bitwise_and(frame2, frame2, mask=mask)\n",
    "\n",
    "        # Subtract the masked second frame from the first frame to create a difference image\n",
    "        diff = cv2.absdiff(frame1, frame2_masked)\n",
    "\n",
    "        # Convert difference image to colored\n",
    "        diff = cv2.cvtColor(diff, cv2.COLOR_BGR2GRAY)\n",
    "\n",
    "        # Store the optical flow data for the current pair of frames\n",
    "        flow_data.append({\n",
    "            'video_name': row['video_name'],\n",
    "            'frame_name': row['frame_name'],\n",
    "            'moition_residual': diff,\n",
    "            'label': row['label'],\n",
    "            'split': row['split']\n",
    "        })\n",
    "    return pd.DataFrame(flow_data)\n",
    "\n",
    "df = pd.read_csv('dataset_processed-Copy/df.csv')\n",
    "flow_df = compute_optical_flow(df)\n",
    "flow_df.to_csv('dataset_processed-Copy/flow_df.csv')\n",
    "\n",
    "# flow_df.head()"
   ]
  }
 ],
 "metadata": {
  "kernelspec": {
   "display_name": "deepfake-detection",
   "language": "python",
   "name": "python3"
  },
  "language_info": {
   "codemirror_mode": {
    "name": "ipython",
    "version": 3
   },
   "file_extension": ".py",
   "mimetype": "text/x-python",
   "name": "python",
   "nbconvert_exporter": "python",
   "pygments_lexer": "ipython3",
   "version": "3.10.8"
  },
  "orig_nbformat": 4,
  "vscode": {
   "interpreter": {
    "hash": "17e24d1b114d8a44af2445fea9cc99b157a99e6747a2699aec81e3de4e0c1a5e"
   }
  }
 },
 "nbformat": 4,
 "nbformat_minor": 2
}
