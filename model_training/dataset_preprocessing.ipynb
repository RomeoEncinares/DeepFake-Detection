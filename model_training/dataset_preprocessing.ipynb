{
 "cells": [
  {
   "cell_type": "code",
   "execution_count": 1,
   "id": "5198213a",
   "metadata": {},
   "outputs": [],
   "source": [
    "import numpy as np\n",
    "import pandas as pd\n",
    "\n",
    "import cv2\n",
    "import matplotlib.pyplot as plt\n",
    "%matplotlib inline\n",
    "from scipy import ndimage\n",
    "import os\n",
    "import sys\n",
    "import random\n",
    "import math\n",
    "import numpy as np\n",
    "import mtcnn\n",
    "import matplotlib\n",
    "import matplotlib.pyplot as plt"
   ]
  },
  {
   "cell_type": "code",
   "execution_count": 2,
   "id": "8c8edf82",
   "metadata": {},
   "outputs": [],
   "source": [
    "preprocess_file_path_train = \"dataset/preprocessed/train\"\n",
    "preprocess_file_path_test = \"dataset/preprocessed/test\""
   ]
  },
  {
   "cell_type": "code",
   "execution_count": 3,
   "id": "7315d693",
   "metadata": {},
   "outputs": [],
   "source": [
    "source = \"dataset/a/\"\n",
    "video_list = os.listdir(source)"
   ]
  },
  {
   "cell_type": "code",
   "execution_count": 4,
   "id": "40746f26",
   "metadata": {},
   "outputs": [],
   "source": [
    "def testFrame(source, video):\n",
    "    video_path = source + video\n",
    "    if os.path.exists(source + os.path.splitext(video)[0]):\n",
    "        pass\n",
    "    else:\n",
    "        os.mkdir(source + os.path.splitext(video)[0]) # create directory\n",
    "    vidcap = cv2.VideoCapture(video_path)\n",
    "\n",
    "    def getFrame(sec, filepath):\n",
    "        vidcap.set(cv2.CAP_PROP_POS_MSEC,sec*1000)\n",
    "        hasFrames,image = vidcap.read()\n",
    "        if hasFrames:\n",
    "            cv2.imwrite(filepath + \"image\"+str(count)+\".jpg\", image) # Save frame as JPG file\n",
    "        return hasFrames\n",
    "        \n",
    "    sec = 1\n",
    "    frameRate = 0.5 # Capture image in each 0.5 second\n",
    "    count=1\n",
    "    success = getFrame(sec, source + os.path.splitext(video)[0] + \"/\")\n",
    "    while success:\n",
    "        count = count + 1\n",
    "        sec = sec + frameRate\n",
    "        sec = round(sec, 2)\n",
    "        success = getFrame(sec, source + os.path.splitext(video)[0] + \"/\")"
   ]
  },
  {
   "cell_type": "code",
   "execution_count": 5,
   "id": "4ed4b06b",
   "metadata": {},
   "outputs": [],
   "source": [
    "for i in video_list:\n",
    "    testFrame(source, i)"
   ]
  },
  {
   "cell_type": "code",
   "execution_count": null,
   "id": "fd29918d",
   "metadata": {},
   "outputs": [],
   "source": []
  }
 ],
 "metadata": {
  "kernelspec": {
   "display_name": "Python 3 (ipykernel)",
   "language": "python",
   "name": "python3"
  },
  "language_info": {
   "codemirror_mode": {
    "name": "ipython",
    "version": 3
   },
   "file_extension": ".py",
   "mimetype": "text/x-python",
   "name": "python",
   "nbconvert_exporter": "python",
   "pygments_lexer": "ipython3",
   "version": "3.10.8"
  }
 },
 "nbformat": 4,
 "nbformat_minor": 5
}
