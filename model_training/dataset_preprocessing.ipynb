{
 "cells": [
  {
   "cell_type": "code",
   "execution_count": 1,
   "id": "96ba34a1",
   "metadata": {},
   "outputs": [],
   "source": [
    "import numpy as np\n",
    "import pandas as pd\n",
    "\n",
    "import cv2\n",
    "import matplotlib.pyplot as plt\n",
    "%matplotlib inline\n",
    "from scipy import ndimage\n",
    "import os\n",
    "import sys\n",
    "import random\n",
    "import math\n",
    "import numpy as np\n",
    "import mtcnn\n",
    "import matplotlib\n",
    "import matplotlib.pyplot as plt"
   ]
  },
  {
   "cell_type": "code",
   "execution_count": 2,
   "id": "5076e3b4",
   "metadata": {},
   "outputs": [],
   "source": [
    "preprocess_file_path_train = \"dataset/preprocessed/train\"\n",
    "preprocess_file_path_test = \"dataset/preprocessed/test\""
   ]
  },
  {
   "cell_type": "code",
   "execution_count": 3,
   "id": "42bf7e6c",
   "metadata": {},
   "outputs": [],
   "source": [
    "source = \"dataset/a/\"\n",
    "video_list = os.listdir(source)"
   ]
  },
  {
   "cell_type": "code",
   "execution_count": 4,
   "id": "c927bf76",
   "metadata": {},
   "outputs": [],
   "source": [
    "def getFrame(source, video):\n",
    "    video_path = source + video\n",
    "    if os.path.exists(source + os.path.splitext(video)[0]):\n",
    "        pass\n",
    "    else:\n",
    "        os.mkdir(source + os.path.splitext(video)[0]) # create directory\n",
    "    vidcap = cv2.VideoCapture(video_path)\n",
    "\n",
    "    def saveFrame(sec, filepath):\n",
    "        vidcap.set(cv2.CAP_PROP_POS_MSEC,sec*1000)\n",
    "        hasFrames,image = vidcap.read()\n",
    "        if hasFrames:\n",
    "            \n",
    "            cv2.imwrite(filepath + \"image\"+str(count)+\".jpg\", image) # Save frame as JPG file\n",
    "        return hasFrames\n",
    "        \n",
    "    sec = 1\n",
    "    frameRate = 0.5 # Capture image in each 0.5 second\n",
    "    count=1\n",
    "    success = saveFrame(sec, source + os.path.splitext(video)[0] + \"/\")\n",
    "    while success:\n",
    "        count = count + 1\n",
    "        sec = sec + frameRate\n",
    "        sec = round(sec, 2)\n",
    "        success = saveFrame(sec, source + os.path.splitext(video)[0] + \"/\")"
   ]
  },
  {
   "cell_type": "code",
   "execution_count": 5,
   "id": "b46574f4",
   "metadata": {},
   "outputs": [],
   "source": [
    "for i in video_list:\n",
    "    getFrame(source, i)"
   ]
  },
  {
   "cell_type": "code",
   "execution_count": null,
   "id": "dff6565d",
   "metadata": {},
   "outputs": [],
   "source": []
  }
 ],
 "metadata": {
  "kernelspec": {
   "display_name": "Python 3 (ipykernel)",
   "language": "python",
   "name": "python3"
  },
  "language_info": {
   "codemirror_mode": {
    "name": "ipython",
    "version": 3
   },
   "file_extension": ".py",
   "mimetype": "text/x-python",
   "name": "python",
   "nbconvert_exporter": "python",
   "pygments_lexer": "ipython3",
   "version": "3.10.8"
  }
 },
 "nbformat": 4,
 "nbformat_minor": 5
}
